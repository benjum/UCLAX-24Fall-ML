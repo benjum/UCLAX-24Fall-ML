{
 "cells": [
  {
   "cell_type": "markdown",
   "id": "91253509-3f82-458e-a4a0-009fa6437a3e",
   "metadata": {},
   "source": [
    "Try running these cells.  \n",
    "* If you don't get any error messages, you are good to go.\n",
    "* If you do get error messages, please use slack to send the error message and request assistance."
   ]
  },
  {
   "cell_type": "code",
   "execution_count": null,
   "id": "44bc0a1f-8740-4cc3-968e-827f866a6f33",
   "metadata": {},
   "outputs": [],
   "source": [
    "import tensorflow as tf\n",
    "print(tf.reduce_sum(tf.random.normal([1000, 1000])))"
   ]
  },
  {
   "cell_type": "code",
   "execution_count": null,
   "id": "5816e2d0-5dbb-4831-a793-fb2b8e6b383e",
   "metadata": {},
   "outputs": [],
   "source": [
    "import matplotlib.pyplot as plt\n",
    "import jax.numpy as jnp\n",
    "from jax import grad, vmap"
   ]
  },
  {
   "cell_type": "code",
   "execution_count": null,
   "id": "e7fd935f-72e6-44ce-9e60-dfda4414eb43",
   "metadata": {},
   "outputs": [],
   "source": [
    "fig, ax = plt.subplots()\n",
    "\n",
    "x = jnp.linspace(-2 * jnp.pi, 2 * jnp.pi, 1000)\n",
    "\n",
    "y = jnp.cos\n",
    "d1y = grad(y)\n",
    "d2y = grad(grad(y))\n",
    "\n",
    "ax.plot(x, y(x), 'k-', lw=4)\n",
    "ax.plot(x, vmap(d1y)(x), 'b-')\n",
    "ax.plot(x, -vmap(d2y)(x), 'w--')"
   ]
  }
 ],
 "metadata": {
  "kernelspec": {
   "display_name": "Python 3 (ipykernel)",
   "language": "python",
   "name": "python3"
  },
  "language_info": {
   "codemirror_mode": {
    "name": "ipython",
    "version": 3
   },
   "file_extension": ".py",
   "mimetype": "text/x-python",
   "name": "python",
   "nbconvert_exporter": "python",
   "pygments_lexer": "ipython3",
   "version": "3.10.15"
  }
 },
 "nbformat": 4,
 "nbformat_minor": 5
}
