{
 "cells": [
  {
   "cell_type": "markdown",
   "id": "702a52d0-2806-4a93-8243-2e488aec74be",
   "metadata": {},
   "source": [
    "## Classifying Handwritten Digits"
   ]
  },
  {
   "cell_type": "code",
   "execution_count": null,
   "id": "14c49eba-4984-4d7c-852c-9f3315b8d649",
   "metadata": {},
   "outputs": [],
   "source": [
    "import matplotlib.pyplot as plt\n",
    "import sklearn.datasets\n",
    "import sklearn.model_selection\n",
    "import sklearn.metrics"
   ]
  },
  {
   "cell_type": "markdown",
   "id": "811fbf4c-ea6b-4acf-82f1-0e6466a1e1c6",
   "metadata": {},
   "source": [
    "We use the toy digit dataset provided by scikit-learn.  \n",
    "\n",
    "(We will use the full MNIST dataset shortly, one of the classic initial problems for budding machine-learning practicioners.)"
   ]
  },
  {
   "cell_type": "code",
   "execution_count": null,
   "id": "4483ce3b-9f1a-4c95-8d8c-584a4e0bbbb1",
   "metadata": {},
   "outputs": [],
   "source": [
    "d = sklearn.datasets.load_digits()"
   ]
  },
  {
   "cell_type": "code",
   "execution_count": null,
   "id": "f7614fcd-1d24-4ccb-96bb-f7fbe43b8450",
   "metadata": {},
   "outputs": [],
   "source": [
    "print(d.DESCR)"
   ]
  },
  {
   "cell_type": "code",
   "execution_count": null,
   "id": "a3c23bbb-17b4-487c-abb7-8057737521fd",
   "metadata": {},
   "outputs": [],
   "source": [
    "x = d.data\n",
    "y = d.target"
   ]
  },
  {
   "cell_type": "code",
   "execution_count": null,
   "id": "5dc9ad95-7a4f-4144-8442-9ea1285cd2ca",
   "metadata": {},
   "outputs": [],
   "source": [
    "x.shape"
   ]
  },
  {
   "cell_type": "code",
   "execution_count": null,
   "id": "45562dc7-b7b2-496a-b19b-d2dc9bbb666e",
   "metadata": {},
   "outputs": [],
   "source": [
    "y.shape"
   ]
  },
  {
   "cell_type": "code",
   "execution_count": null,
   "id": "c87995c4-adc7-4ed1-bf4c-44c0c058c176",
   "metadata": {},
   "outputs": [],
   "source": [
    "x[0]"
   ]
  },
  {
   "cell_type": "code",
   "execution_count": null,
   "id": "3c552e99-3f17-47d0-b8f0-19d77c4dfc9f",
   "metadata": {},
   "outputs": [],
   "source": [
    "y[0]"
   ]
  },
  {
   "cell_type": "markdown",
   "id": "530aa893-ce0d-485d-bf3e-b1d3cffe114b",
   "metadata": {},
   "source": [
    "The samples consist of 64 features, one for each pixel value of an 8x8 image array.  We can reshape the sample into an 8x8 array in order to visualize it."
   ]
  },
  {
   "cell_type": "code",
   "execution_count": null,
   "id": "24d33b12-bd83-4c33-8245-b318894c4696",
   "metadata": {},
   "outputs": [],
   "source": [
    "sample = x[4].reshape(8,8)\n",
    "plt.imshow(sample, cmap='binary')"
   ]
  },
  {
   "cell_type": "code",
   "execution_count": null,
   "id": "60d39beb-140b-4d74-9a06-d4d8867b6614",
   "metadata": {},
   "outputs": [],
   "source": [
    "for i in range(100):\n",
    "    plt.subplot(10,10,i+1)\n",
    "    sample = x[i].reshape(8,8)\n",
    "    plt.imshow(sample, cmap='binary')"
   ]
  },
  {
   "cell_type": "markdown",
   "id": "5342e65c-f978-40cd-b65e-d381fc69969d",
   "metadata": {},
   "source": [
    "## Stochastic Gradient Descent"
   ]
  },
  {
   "cell_type": "code",
   "execution_count": null,
   "id": "8ca6e0db-9d8d-4c7d-acf6-cd4fa30a7378",
   "metadata": {},
   "outputs": [],
   "source": [
    "from sklearn.linear_model import SGDClassifier\n",
    "sgd_classifier = SGDClassifier(random_state=42)"
   ]
  },
  {
   "cell_type": "code",
   "execution_count": null,
   "id": "d84bc854-8edf-4d36-8ff2-43197d35b0cd",
   "metadata": {},
   "outputs": [],
   "source": [
    "x_train, x_test, y_train, y_test = sklearn.model_selection.train_test_split(\n",
    "        x, y, test_size=0.2, random_state=42)"
   ]
  },
  {
   "cell_type": "markdown",
   "id": "59257867-907f-4f56-8f24-2d2b3c7a7775",
   "metadata": {},
   "source": [
    "One catch to watch out for in splitting up your data into training and test sets:  stratification.\n",
    "\n",
    "Let's say you have a dataset that has 90% cat images and 10% dog images.  If you split your data and end up with 99% cats in your training data and 1% dogs, you'll be training your model on an unrepresentative sample.  (Sampling issues like this can be much more consequential and damaging than distinguishing cats from dogs!)"
   ]
  },
  {
   "cell_type": "code",
   "execution_count": null,
   "id": "cdbb5b75-2764-4572-b5f8-82765c30d9af",
   "metadata": {},
   "outputs": [],
   "source": [
    "plt.hist(y, width=0.5)"
   ]
  },
  {
   "cell_type": "code",
   "execution_count": null,
   "id": "0e762830-36e3-4446-a615-0839aa02e48b",
   "metadata": {},
   "outputs": [],
   "source": [
    "plt.hist(y_train, width=0.5)"
   ]
  },
  {
   "cell_type": "markdown",
   "id": "82a1e8c0-4a91-4118-a165-1250c3e07d59",
   "metadata": {},
   "source": [
    "Here the difference in percentages is noticeable but not too significant by eye.  Nevertheless, we can stratify our split properly by including the \"stratify\" parameter and assigning it our target variable."
   ]
  },
  {
   "cell_type": "code",
   "execution_count": null,
   "id": "6b7c4692-a0c8-4991-949e-7541a5bb34e0",
   "metadata": {},
   "outputs": [],
   "source": [
    "x_train, x_test, y_train, y_test = sklearn.model_selection.train_test_split(\n",
    "        x, y, test_size=0.2, random_state=42, stratify=y)"
   ]
  },
  {
   "cell_type": "code",
   "execution_count": null,
   "id": "f93234e5-0dd8-469e-9f31-86078c148430",
   "metadata": {},
   "outputs": [],
   "source": [
    "plt.hist(y, width=0.5)"
   ]
  },
  {
   "cell_type": "code",
   "execution_count": null,
   "id": "bba58b0e-6f0f-4981-9ba5-9e6c7c1db608",
   "metadata": {},
   "outputs": [],
   "source": [
    "plt.hist(y_train, width=0.5)"
   ]
  },
  {
   "cell_type": "code",
   "execution_count": null,
   "id": "1306ad94-6261-43e9-acef-0e5b73f288cf",
   "metadata": {},
   "outputs": [],
   "source": [
    "sgd_classifier.fit(x_train, y_train)"
   ]
  },
  {
   "cell_type": "code",
   "execution_count": null,
   "id": "461a6b69-ecd5-44b5-b7f7-923e6020d648",
   "metadata": {},
   "outputs": [],
   "source": [
    "sgd_classifier.predict(x_train[[7]])"
   ]
  },
  {
   "cell_type": "code",
   "execution_count": null,
   "id": "31d641c8-2015-4d73-9d7b-26216cb00c34",
   "metadata": {},
   "outputs": [],
   "source": [
    "y_train[7]"
   ]
  },
  {
   "cell_type": "code",
   "execution_count": null,
   "id": "c0776086-6266-4500-92d6-3dc5e65a99c0",
   "metadata": {},
   "outputs": [],
   "source": [
    "y_pred = sgd_classifier.predict(x_test)"
   ]
  },
  {
   "cell_type": "code",
   "execution_count": null,
   "id": "575a0be2-f757-4263-b7b8-f93044740ebb",
   "metadata": {},
   "outputs": [],
   "source": [
    "cm = sklearn.metrics.confusion_matrix(y_test, y_pred)\n",
    "cm"
   ]
  },
  {
   "cell_type": "markdown",
   "id": "e2846feb-0f46-4b8c-b64f-4026af9424ca",
   "metadata": {},
   "source": [
    "In contrast with binary classification, calculating precision and recall (and etc) for multi-class classification problems can be computed in slightly different ways depending on how one does averaging. \n",
    "\n",
    "A macro-average will compute the metric independently for each class and then take the average (hence treating all classes equally), whereas a micro-average will aggregate the contributions of all classes to compute the average metric. \n",
    "\n",
    "In a multi-class classification setup, micro-average is preferable if you suspect there might be class imbalance (i.e you may have many more examples of one class than of other classes)."
   ]
  },
  {
   "cell_type": "code",
   "execution_count": null,
   "id": "e8f54ef5-2011-48b8-8ff3-d46ed5d60eb2",
   "metadata": {},
   "outputs": [],
   "source": [
    "print(f\"Accuracy: {sklearn.metrics.accuracy_score(y_test, y_pred):.2%}\")\n",
    "print(f\"Precision: {sklearn.metrics.precision_score(y_test, y_pred, average='micro'):.2%}\")\n",
    "print(f\"Recall: {sklearn.metrics.recall_score(y_test, y_pred, average='micro'):.2%}\")"
   ]
  },
  {
   "cell_type": "code",
   "execution_count": null,
   "id": "958d499b-6a50-4ceb-bd13-bbb610ff3297",
   "metadata": {},
   "outputs": [],
   "source": [
    "print(f\"Accuracy: {sklearn.metrics.accuracy_score(y_test, y_pred):.2%}\")\n",
    "print(f\"Precision: {sklearn.metrics.precision_score(y_test, y_pred, average='macro'):.2%}\")\n",
    "print(f\"Recall: {sklearn.metrics.recall_score(y_test, y_pred, average='macro'):.2%}\")"
   ]
  },
  {
   "cell_type": "markdown",
   "id": "a4a78858-15da-4bfe-bc09-a8a1b444109b",
   "metadata": {},
   "source": [
    "## Logistic Regression"
   ]
  },
  {
   "cell_type": "code",
   "execution_count": null,
   "id": "cb964029-aee4-4d0e-b9bb-cd7017cf59d5",
   "metadata": {},
   "outputs": [],
   "source": [
    "import sklearn.linear_model\n",
    "lr_classifier = sklearn.linear_model.LogisticRegression()"
   ]
  },
  {
   "cell_type": "code",
   "execution_count": null,
   "id": "7dc8bca1-5d79-4b59-b65a-5a716b282fbe",
   "metadata": {},
   "outputs": [],
   "source": [
    "lr_classifier.fit(x_train, y_train)"
   ]
  },
  {
   "cell_type": "markdown",
   "id": "0e8d52bf-9812-4bcf-9091-03b0a9fb67d9",
   "metadata": {},
   "source": [
    "It will not be uncommon for you to run into scenarios in which you encounter errors when trying to train models.\n",
    "\n",
    "In such cases, they can be fruitful opportunities to consult the documentation and learn more about various training options.\n",
    "\n",
    "Here, the error message gives us clues about potentially insightful documentation.\n",
    "\n",
    "To fast-forward, it will be useful here for Logistic Regression if we rescale our sample data from being integer values over [0:16] to being continuous values scaled to have a normal distribution of values -> the sklearn StandardScaler will rescale the features to have 0 mean and unit variance."
   ]
  },
  {
   "cell_type": "code",
   "execution_count": null,
   "id": "b6e18309-0f4e-4db0-883b-8d620926a76d",
   "metadata": {},
   "outputs": [],
   "source": [
    "import sklearn.preprocessing"
   ]
  },
  {
   "cell_type": "code",
   "execution_count": null,
   "id": "c50fcba6-7350-4d37-aa8b-77bd2b36d2b2",
   "metadata": {},
   "outputs": [],
   "source": [
    "scaler = sklearn.preprocessing.StandardScaler()"
   ]
  },
  {
   "cell_type": "code",
   "execution_count": null,
   "id": "c4304d87-0b7d-44de-8afe-2b69fed14362",
   "metadata": {},
   "outputs": [],
   "source": [
    "x_scaled = scaler.fit_transform(x_train)"
   ]
  },
  {
   "cell_type": "code",
   "execution_count": null,
   "id": "1807c2fd-a0a8-44a4-9e56-8b97acf7e31d",
   "metadata": {},
   "outputs": [],
   "source": [
    "x_scaled[0]"
   ]
  },
  {
   "cell_type": "markdown",
   "id": "f15deb6a-26b1-4556-8d50-ee52acdd813e",
   "metadata": {},
   "source": [
    "Here's the difference in image between original and rescaled."
   ]
  },
  {
   "cell_type": "code",
   "execution_count": null,
   "id": "0c165e98-ddcd-400e-afc0-bf22af694041",
   "metadata": {},
   "outputs": [],
   "source": [
    "sample = x_train[7].reshape(8,8)\n",
    "plt.imshow(sample,cmap='binary')"
   ]
  },
  {
   "cell_type": "code",
   "execution_count": null,
   "id": "4127af7a-4adf-4dc1-a12b-c0138bf78008",
   "metadata": {},
   "outputs": [],
   "source": [
    "sample = x_scaled[7].reshape(8,8)\n",
    "plt.imshow(sample,cmap='binary')"
   ]
  },
  {
   "cell_type": "code",
   "execution_count": null,
   "id": "ecd33ad7-9e57-4dd5-b60c-a584a3c83255",
   "metadata": {},
   "outputs": [],
   "source": [
    "for i in range(100):\n",
    "    plt.subplot(10,10,i+1)\n",
    "    sample = x_scaled[i].reshape(8,8)\n",
    "    plt.imshow(sample, cmap='binary')"
   ]
  },
  {
   "cell_type": "code",
   "execution_count": null,
   "id": "68349695-2b06-47ba-8cb8-ca798cb288d0",
   "metadata": {},
   "outputs": [],
   "source": [
    "lr_classifier.fit(x_scaled, y_train)"
   ]
  },
  {
   "cell_type": "code",
   "execution_count": null,
   "id": "502a4cb5-0e73-44a7-bd19-528d33af1865",
   "metadata": {},
   "outputs": [],
   "source": [
    "lr_classifier.predict(x_scaled[[7]])"
   ]
  },
  {
   "cell_type": "code",
   "execution_count": null,
   "id": "f5ee8e4d-d7de-48af-bf95-6b038921c3d4",
   "metadata": {},
   "outputs": [],
   "source": [
    "y_train[7]"
   ]
  },
  {
   "cell_type": "markdown",
   "id": "1a283fc6-521b-424a-95a8-3ae1587596c9",
   "metadata": {},
   "source": [
    "Our classifier was trained on scaled data, so we must scale any new data similarly (though we only need to do the transform now, not the fit.)"
   ]
  },
  {
   "cell_type": "code",
   "execution_count": null,
   "id": "3f963882-735f-4667-b25a-95dc292c0bed",
   "metadata": {},
   "outputs": [],
   "source": [
    "x_test_scaled = scaler.transform(x_test)"
   ]
  },
  {
   "cell_type": "code",
   "execution_count": null,
   "id": "e7bb8fca-4de4-4b3d-898b-b06e53cbe97b",
   "metadata": {},
   "outputs": [],
   "source": [
    "y_pred = lr_classifier.predict(x_test_scaled)"
   ]
  },
  {
   "cell_type": "code",
   "execution_count": null,
   "id": "52f6f814-d655-4855-8e8c-7f7039ed4158",
   "metadata": {},
   "outputs": [],
   "source": [
    "cm = sklearn.metrics.confusion_matrix(y_test, y_pred)\n",
    "cm"
   ]
  },
  {
   "cell_type": "code",
   "execution_count": null,
   "id": "fb739227-2db8-4f30-8e0a-adc16139251f",
   "metadata": {},
   "outputs": [],
   "source": [
    "print(f\"Accuracy: {sklearn.metrics.accuracy_score(y_test, y_pred):.2%}\")"
   ]
  },
  {
   "cell_type": "markdown",
   "id": "d67798ab-4a30-4264-8110-b0898cf5a938",
   "metadata": {},
   "source": [
    "## Wait.... What does SGDClassifier optimize?\n",
    "\n",
    "https://scikit-learn.org/stable/modules/generated/sklearn.linear_model.SGDClassifier.html"
   ]
  },
  {
   "cell_type": "code",
   "execution_count": null,
   "id": "952ab242-8abe-4dc2-9ffc-6646d3fa1d36",
   "metadata": {},
   "outputs": [],
   "source": [
    "sgd_classifier_logloss = SGDClassifier(loss='log_loss',random_state=42)"
   ]
  },
  {
   "cell_type": "code",
   "execution_count": null,
   "id": "144c1a49-9916-4017-b806-4658a23e866d",
   "metadata": {},
   "outputs": [],
   "source": [
    "sgd_classifier_logloss.fit(x_scaled, y_train)"
   ]
  },
  {
   "cell_type": "code",
   "execution_count": null,
   "id": "ab1aa00b-bb7f-4a00-b04f-d7ebf91e9553",
   "metadata": {},
   "outputs": [],
   "source": [
    "sgd_classifier_logloss.predict(x_scaled[[7]])"
   ]
  },
  {
   "cell_type": "code",
   "execution_count": null,
   "id": "53b34891-0e28-4123-8419-0990272d98b7",
   "metadata": {},
   "outputs": [],
   "source": [
    "y_train[7]"
   ]
  },
  {
   "cell_type": "code",
   "execution_count": null,
   "id": "51a5de29-d2fb-47c7-bf11-a42ddef89047",
   "metadata": {},
   "outputs": [],
   "source": [
    "y_pred = sgd_classifier_logloss.predict(x_test_scaled)"
   ]
  },
  {
   "cell_type": "code",
   "execution_count": null,
   "id": "86b1bf50-82b2-4993-b479-8ea9d957db7b",
   "metadata": {},
   "outputs": [],
   "source": [
    "cm = sklearn.metrics.confusion_matrix(y_test, y_pred)\n",
    "cm"
   ]
  },
  {
   "cell_type": "code",
   "execution_count": null,
   "id": "316fbc8e-b366-445c-965d-ae3817d4bcca",
   "metadata": {},
   "outputs": [],
   "source": [
    "print(f\"Accuracy: {sklearn.metrics.accuracy_score(y_test, y_pred):.2%}\")"
   ]
  },
  {
   "cell_type": "markdown",
   "id": "5c606835",
   "metadata": {},
   "source": [
    "# Decision tree"
   ]
  },
  {
   "cell_type": "code",
   "execution_count": null,
   "id": "514f07dd",
   "metadata": {},
   "outputs": [],
   "source": [
    "from sklearn.tree import DecisionTreeClassifier\n",
    "tree_clf = DecisionTreeClassifier()"
   ]
  },
  {
   "cell_type": "code",
   "execution_count": null,
   "id": "7cbe7b70",
   "metadata": {},
   "outputs": [],
   "source": [
    "tree_clf.fit(x_train, y_train)"
   ]
  },
  {
   "cell_type": "code",
   "execution_count": null,
   "id": "49300de4",
   "metadata": {},
   "outputs": [],
   "source": [
    "tree_clf.classes_"
   ]
  },
  {
   "cell_type": "code",
   "execution_count": null,
   "id": "831835a2",
   "metadata": {},
   "outputs": [],
   "source": [
    "y_pred = tree_clf.predict(x_test)"
   ]
  },
  {
   "cell_type": "code",
   "execution_count": null,
   "id": "bbb18979",
   "metadata": {},
   "outputs": [],
   "source": [
    "cm = sklearn.metrics.confusion_matrix(y_test, y_pred)\n",
    "cm"
   ]
  },
  {
   "cell_type": "code",
   "execution_count": null,
   "id": "31d489f5",
   "metadata": {},
   "outputs": [],
   "source": [
    "print(f\"Accuracy: {sklearn.metrics.accuracy_score(y_test, y_pred):.2%}\")"
   ]
  },
  {
   "cell_type": "markdown",
   "id": "c49f9abe",
   "metadata": {},
   "source": [
    "# Random Forest"
   ]
  },
  {
   "cell_type": "code",
   "execution_count": null,
   "id": "3036a3f8",
   "metadata": {},
   "outputs": [],
   "source": [
    "from sklearn.ensemble import RandomForestClassifier\n",
    "rf_clf = RandomForestClassifier()"
   ]
  },
  {
   "cell_type": "code",
   "execution_count": null,
   "id": "13778b4f",
   "metadata": {},
   "outputs": [],
   "source": [
    "rf_clf.fit(x_train, y_train)"
   ]
  },
  {
   "cell_type": "code",
   "execution_count": null,
   "id": "3e4ae641",
   "metadata": {},
   "outputs": [],
   "source": [
    "rf_clf.classes_"
   ]
  },
  {
   "cell_type": "code",
   "execution_count": null,
   "id": "edc6d3cf",
   "metadata": {},
   "outputs": [],
   "source": [
    "y_pred = rf_clf.predict(x_test)"
   ]
  },
  {
   "cell_type": "code",
   "execution_count": null,
   "id": "beb47ca1",
   "metadata": {},
   "outputs": [],
   "source": [
    "cm = sklearn.metrics.confusion_matrix(y_test, y_pred)\n",
    "cm"
   ]
  },
  {
   "cell_type": "code",
   "execution_count": null,
   "id": "0f4cd959",
   "metadata": {},
   "outputs": [],
   "source": [
    "scaler = sklearn.preprocessing.StandardScaler()\n",
    "scaler.fit_transform(x_train)\n",
    "x_test_scaled = scaler.transform(x_test)\n",
    "\n",
    "print(f\"Accuracy: {sklearn.metrics.accuracy_score(y_test, sgd_classifier.predict(x_test)):.2%}\")\n",
    "print(f\"Accuracy: {sklearn.metrics.accuracy_score(y_test, lr_classifier.predict(x_test_scaled)):.2%}\")\n",
    "print(f\"Accuracy: {sklearn.metrics.accuracy_score(y_test, tree_clf.predict(x_test)):.2%}\")\n",
    "print(f\"Accuracy: {sklearn.metrics.accuracy_score(y_test, rf_clf.predict(x_test)):.2%}\")"
   ]
  },
  {
   "cell_type": "markdown",
   "id": "3c87b6d4",
   "metadata": {},
   "source": [
    "Can we improve the Random Forest accuracy?\n",
    "\n",
    "Actually, what parameters does it currently have?"
   ]
  },
  {
   "cell_type": "code",
   "execution_count": null,
   "id": "1529b3fc",
   "metadata": {},
   "outputs": [],
   "source": [
    "rf_clf.get_params()"
   ]
  },
  {
   "cell_type": "code",
   "execution_count": null,
   "id": "6c998ebb",
   "metadata": {},
   "outputs": [],
   "source": [
    "from sklearn.model_selection import GridSearchCV"
   ]
  },
  {
   "cell_type": "code",
   "execution_count": null,
   "id": "f6abb815",
   "metadata": {},
   "outputs": [],
   "source": [
    "cv_grid = GridSearchCV(RandomForestClassifier(n_jobs=-1,random_state=42),\n",
    "                       param_grid = {\n",
    "                           'max_depth' : [None,10,20],\n",
    "                           'n_estimators' : [50,100,200],\n",
    "                           'max_leaf_nodes' : [None,5,10]\n",
    "                       })\n",
    "cv_grid.fit(x_train, y_train)\n",
    "cv_grid.best_params_"
   ]
  },
  {
   "cell_type": "code",
   "execution_count": null,
   "id": "efc9bff9",
   "metadata": {},
   "outputs": [],
   "source": [
    "y_pred = cv_grid.predict(x_test)"
   ]
  },
  {
   "cell_type": "code",
   "execution_count": null,
   "id": "c6ae8e4e",
   "metadata": {},
   "outputs": [],
   "source": [
    "cm = sklearn.metrics.confusion_matrix(y_test, y_pred)\n",
    "cm"
   ]
  },
  {
   "cell_type": "code",
   "execution_count": null,
   "id": "466dee9b",
   "metadata": {},
   "outputs": [],
   "source": [
    "print(f\"Accuracy: {sklearn.metrics.accuracy_score(y_test, y_pred):.2%}\")"
   ]
  },
  {
   "cell_type": "code",
   "execution_count": null,
   "id": "6044eb92",
   "metadata": {},
   "outputs": [],
   "source": [
    "rf_clf.feature_importances_"
   ]
  },
  {
   "cell_type": "code",
   "execution_count": null,
   "id": "7ce4c3e4",
   "metadata": {},
   "outputs": [],
   "source": [
    "plt.imshow(rf_clf.feature_importances_.reshape(8,8),\n",
    "           cmap='binary')"
   ]
  },
  {
   "cell_type": "markdown",
   "id": "ce9eed26-91bc-4875-ab41-e6d13d25fc88",
   "metadata": {},
   "source": [
    "## Extra section on classification performance"
   ]
  },
  {
   "cell_type": "markdown",
   "id": "c84e60cc-9a89-4451-a6f6-5fc9c5b943a3",
   "metadata": {},
   "source": [
    "In classification there is a trade-off between optimizing precision and optimizing recall.\n",
    "\n",
    "The following will allow you to quantify and visualize that trade-off, as well as make plots of the ROC curves (Receiver Operating Characteristic).\n",
    "\n",
    "ROC is useful for binary classification, when you have a strict population of false-negatives, true-positives, and etc.  Precision and recall are also more easily conceptualized in binary classification, when there is no ambiguity about handling multi-class classification.  Therefore, the below does classification for the classes Fives and Not-Fives.  (You can easily check for other numbers too by changing the 5 to, say, 9)."
   ]
  },
  {
   "cell_type": "code",
   "execution_count": null,
   "id": "f2ff80ff-3f56-4b5d-8f21-c33fbcee365f",
   "metadata": {},
   "outputs": [],
   "source": [
    "y_five = (y == 5)"
   ]
  },
  {
   "cell_type": "code",
   "execution_count": null,
   "id": "0d46bd54-eb81-4d77-9974-dad2dae7c4b4",
   "metadata": {},
   "outputs": [],
   "source": [
    "y_five"
   ]
  },
  {
   "cell_type": "code",
   "execution_count": null,
   "id": "172046df-b129-4f09-aa04-26b8bc23247e",
   "metadata": {},
   "outputs": [],
   "source": [
    "x_train, x_test, y_train, y_test = sklearn.model_selection.train_test_split(\n",
    "        x, y_five, test_size=0.2, random_state=42)"
   ]
  },
  {
   "cell_type": "markdown",
   "id": "0fb85ab6-a5ac-4d29-90a2-bd077a5af28d",
   "metadata": {},
   "source": [
    "## Another \"wait...\"\n",
    "\n",
    "Five vs not-five is taking us into smaller sample sizes for the class we're trying to predict.\n",
    "\n",
    "Let's see what percentages of the training set and test set are 5s"
   ]
  },
  {
   "cell_type": "code",
   "execution_count": null,
   "id": "857132c7-7ef4-4234-8fee-c5446dc1cd71",
   "metadata": {},
   "outputs": [],
   "source": [
    "import numpy as np"
   ]
  },
  {
   "cell_type": "code",
   "execution_count": null,
   "id": "f48b2c39-ff7d-4733-a8c9-4d201be58815",
   "metadata": {},
   "outputs": [],
   "source": [
    "np.sum(y_five) / y_five.shape"
   ]
  },
  {
   "cell_type": "code",
   "execution_count": null,
   "id": "5bc5e9fd-c68e-4e3c-8eec-abe7b94e12ba",
   "metadata": {},
   "outputs": [],
   "source": [
    "np.sum(y_test) / y_test.shape"
   ]
  },
  {
   "cell_type": "code",
   "execution_count": null,
   "id": "c681694c-585b-47aa-85dd-3833f4c9089c",
   "metadata": {},
   "outputs": [],
   "source": [
    "np.sum(y_train) / y_train.shape"
   ]
  },
  {
   "cell_type": "markdown",
   "id": "53594013-75e7-4b3a-8f0b-98625feed916",
   "metadata": {},
   "source": [
    "Probably better to make sure that the sample is properly stratified."
   ]
  },
  {
   "cell_type": "code",
   "execution_count": null,
   "id": "d534e3c4-60f8-4ab2-be74-1e3f41e9af37",
   "metadata": {},
   "outputs": [],
   "source": [
    "x_train, x_test, y_train, y_test = sklearn.model_selection.train_test_split(\n",
    "        x, y_five, test_size=0.2, random_state=42, stratify=y_five)"
   ]
  },
  {
   "cell_type": "code",
   "execution_count": null,
   "id": "7cbd587c-0865-4665-9244-c86553f96ce4",
   "metadata": {},
   "outputs": [],
   "source": [
    "import numpy as np"
   ]
  },
  {
   "cell_type": "code",
   "execution_count": null,
   "id": "be804f77-1531-4ef1-b9bb-475284c98728",
   "metadata": {},
   "outputs": [],
   "source": [
    "np.sum(y_five) / y_five.shape"
   ]
  },
  {
   "cell_type": "code",
   "execution_count": null,
   "id": "aa932042-cc6e-45ac-9ef7-c8426532c097",
   "metadata": {},
   "outputs": [],
   "source": [
    "np.sum(y_test) / y_test.shape"
   ]
  },
  {
   "cell_type": "code",
   "execution_count": null,
   "id": "69b76dab-8e24-4e76-990e-cfc988f19436",
   "metadata": {},
   "outputs": [],
   "source": [
    "np.sum(y_train) / y_train.shape"
   ]
  },
  {
   "cell_type": "markdown",
   "id": "8b913ca6-2fcb-4743-b83c-c21dbfee938d",
   "metadata": {},
   "source": [
    "Those 10% numbers are looking better."
   ]
  },
  {
   "cell_type": "code",
   "execution_count": null,
   "id": "b09e7967-8ce3-4875-890d-fa9505ef0da3",
   "metadata": {},
   "outputs": [],
   "source": [
    "# Remember:  These are for binary classification \n",
    "# rather than the full multicategory classification above\n",
    "\n",
    "# Stochastic Gradient Descent\n",
    "sgd_classifier = sklearn.linear_model.SGDClassifier(random_state=42)\n",
    "sgd_classifier.fit(x_train, y_train)\n",
    "sgd_y_pred = sgd_classifier.predict(x_test)\n",
    "print(f\"Accuracy: {sklearn.metrics.accuracy_score(y_test, sgd_y_pred):.2%}\")\n",
    "print(f\"SGD Precision: {sklearn.metrics.precision_score(y_test, sgd_y_pred):.2%}\")\n",
    "print(f\"SGD Recall: {sklearn.metrics.recall_score(y_test, sgd_y_pred):.2%}\")\n",
    "cm = sklearn.metrics.confusion_matrix(y_test, sgd_y_pred)\n",
    "print(cm)\n",
    "\n",
    "# Logistic Regression\n",
    "lr_classifier = sklearn.linear_model.LogisticRegression(random_state=42)\n",
    "lr_scaler = sklearn.preprocessing.StandardScaler()\n",
    "x_train_scaled = lr_scaler.fit_transform(x_train)\n",
    "x_test_scaled = lr_scaler.transform(x_test)\n",
    "lr_classifier.fit(x_train_scaled, y_train)\n",
    "lr_y_pred = lr_classifier.predict(x_test_scaled)\n",
    "print(f\"Accuracy: {sklearn.metrics.accuracy_score(y_test, lr_y_pred):.2%}\")\n",
    "print(f\"LR Precision: {sklearn.metrics.precision_score(y_test, lr_y_pred):.2%}\")\n",
    "print(f\"LR Recall: {sklearn.metrics.recall_score(y_test, lr_y_pred):.2%}\")\n",
    "cm = sklearn.metrics.confusion_matrix(y_test, lr_y_pred)\n",
    "print(cm)\n",
    "\n",
    "# Decision Tree\n",
    "tree_classifier = sklearn.tree.DecisionTreeClassifier()\n",
    "tree_classifier.fit(x_train, y_train)\n",
    "tree_y_pred = tree_classifier.predict(x_test)\n",
    "print(f\"Accuracy: {sklearn.metrics.accuracy_score(y_test, tree_y_pred):.2%}\")\n",
    "print(f\"Tree Precision: {sklearn.metrics.precision_score(y_test, tree_y_pred):.2%}\")\n",
    "print(f\"Tree Recall: {sklearn.metrics.recall_score(y_test, tree_y_pred):.2%}\")\n",
    "cm = sklearn.metrics.confusion_matrix(y_test, tree_y_pred)\n",
    "print(cm)\n",
    "\n",
    "# Random Forest\n",
    "rf_classifier = sklearn.ensemble.RandomForestClassifier()\n",
    "rf_classifier.fit(x_train, y_train)\n",
    "rf_y_pred = rf_classifier.predict(x_test)\n",
    "print(f\"Accuracy: {sklearn.metrics.accuracy_score(y_test, rf_y_pred):.2%}\")\n",
    "print(f\"RF Precision: {sklearn.metrics.precision_score(y_test, rf_y_pred):.2%}\")\n",
    "print(f\"RF Recall: {sklearn.metrics.recall_score(y_test, rf_y_pred):.2%}\")\n",
    "cm = sklearn.metrics.confusion_matrix(y_test, rf_y_pred)\n",
    "print(cm)\n"
   ]
  },
  {
   "cell_type": "code",
   "execution_count": null,
   "id": "f1d9c4fc-6388-494b-b8b4-1720ed7f2202",
   "metadata": {},
   "outputs": [],
   "source": [
    "sgd_y_scores = sklearn.model_selection.cross_val_predict(sgd_classifier, x_train, y_train, cv=3,\n",
    "                             method=\"decision_function\")"
   ]
  },
  {
   "cell_type": "code",
   "execution_count": null,
   "id": "ce6327b6-d170-4675-a638-4c9d1e44cf3c",
   "metadata": {},
   "outputs": [],
   "source": [
    "sgd_y_scores"
   ]
  },
  {
   "cell_type": "code",
   "execution_count": null,
   "id": "1cc73422-bc4b-4aac-ada6-4505446146af",
   "metadata": {},
   "outputs": [],
   "source": [
    "print(sum(sgd_y_scores > 0))\n",
    "print(sum(sgd_y_scores < 0))"
   ]
  },
  {
   "cell_type": "code",
   "execution_count": null,
   "id": "da216f1b-811d-40d9-bfad-c19305d858eb",
   "metadata": {},
   "outputs": [],
   "source": [
    "print(sum(sgd_y_scores > 0) / len(sgd_y_scores))\n",
    "print(sum(sgd_y_scores < 0) / len(sgd_y_scores))"
   ]
  },
  {
   "cell_type": "code",
   "execution_count": null,
   "id": "932161f8-b6f3-42d2-b99c-2cde3c6e642d",
   "metadata": {},
   "outputs": [],
   "source": [
    "sgd_precisions, sgd_recalls, sgd_thresholds = sklearn.metrics.precision_recall_curve(y_train, sgd_y_scores)\n",
    "\n",
    "plt.figure(figsize=(8, 4))\n",
    "plt.plot(sgd_thresholds, sgd_precisions[:-1], \"b--\", label=\"SGD Precision\", linewidth=2)\n",
    "plt.plot(sgd_thresholds, sgd_recalls[:-1], \"g-\", label=\"SGD Recall\", linewidth=2)\n",
    "plt.axis([-3000, 3000, 0, 1.1])\n",
    "plt.xlabel(\"Threshold\")\n",
    "plt.legend()"
   ]
  },
  {
   "cell_type": "code",
   "execution_count": null,
   "id": "6fe471fd-7585-47fe-a96b-a9ee53e55a14",
   "metadata": {},
   "outputs": [],
   "source": [
    "sgd_falsePositiveRate, sgd_truePositiveRate, sgd_thresholds = sklearn.metrics.roc_curve(y_train, sgd_y_scores)\n",
    "\n",
    "plt.figure(figsize=(6, 5))\n",
    "plt.plot(sgd_falsePositiveRate, sgd_truePositiveRate, linewidth=2, color='black', label=\"SGD ROC curve\")\n",
    "plt.plot([0, 1], [0, 1], 'k:', label=\"Random classifier's ROC curve\")\n",
    "plt.legend()\n",
    "plt.show()"
   ]
  },
  {
   "cell_type": "code",
   "execution_count": null,
   "id": "31d85552",
   "metadata": {},
   "outputs": [],
   "source": [
    "from sklearn.metrics import DetCurveDisplay, RocCurveDisplay"
   ]
  },
  {
   "cell_type": "code",
   "execution_count": null,
   "id": "e2df05db",
   "metadata": {},
   "outputs": [],
   "source": [
    "fig, ax = plt.subplots(1, 1, figsize=(7, 5))\n",
    "RocCurveDisplay.from_estimator(sgd_classifier, x_test, y_test, ax=ax)\n",
    "RocCurveDisplay.from_estimator(lr_classifier, x_test, y_test, ax=ax)\n",
    "RocCurveDisplay.from_estimator(tree_classifier, x_test, y_test, ax=ax)\n",
    "RocCurveDisplay.from_estimator(rf_classifier, x_test, y_test, ax=ax, color='k')"
   ]
  }
 ],
 "metadata": {
  "kernelspec": {
   "display_name": "Python 3 (ipykernel)",
   "language": "python",
   "name": "python3"
  },
  "language_info": {
   "codemirror_mode": {
    "name": "ipython",
    "version": 3
   },
   "file_extension": ".py",
   "mimetype": "text/x-python",
   "name": "python",
   "nbconvert_exporter": "python",
   "pygments_lexer": "ipython3",
   "version": "3.10.15"
  }
 },
 "nbformat": 4,
 "nbformat_minor": 5
}
