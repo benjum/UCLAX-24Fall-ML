{
  "cells": [
    {
      "cell_type": "markdown",
      "id": "089e741a",
      "metadata": {
        "tags": []
      },
      "source": "# Decision Trees for Regression"
    },
    {
      "cell_type": "markdown",
      "id": "04bfa1b8-7c3a-4fdc-bb21-a42ef07591e0",
      "metadata": {
        "tags": []
      },
      "source": "## But first, more on ML fundamentals\n\nSome of this will repeat content, but it will set us up for looking again at:\n* test/train split\n* cross-validation\n\nAs well as at:\n* pipelines\n* grid-search cross-validation "
    },
    {
      "cell_type": "code",
      "execution_count": null,
      "id": "c8d00c71-08b2-4eb6-8d92-aa0481ba60a8",
      "metadata": {
        "tags": [],
        "trusted": true
      },
      "outputs": [],
      "source": "import numpy as np\nimport matplotlib.pyplot as plt"
    },
    {
      "cell_type": "markdown",
      "id": "de08088e-0e3e-42d8-8ca9-b888dac52e9e",
      "metadata": {},
      "source": "### Get the data\nHere we're manufacturing it."
    },
    {
      "cell_type": "markdown",
      "id": "904a6333-8acf-48bf-9453-f05a1e36d98e",
      "metadata": {},
      "source": "We're going to generate some fictitious data that follows an equation of our choosing:\n\n$$ y(x) = 4 + 2x - x^2 + 0.075x^3 $$"
    },
    {
      "cell_type": "code",
      "execution_count": null,
      "id": "a41d89cb-cece-461b-bfa3-32bde7c6ef6b",
      "metadata": {
        "trusted": true
      },
      "outputs": [],
      "source": "np.random.seed(42)\nnoise = np.random.normal(0,1.5,50)\n\nx = np.linspace(0, 10, 50)\n\ny_underlying = 4 + 2*x - x**2 + 0.075*x**3 \ny = 4 + 2*x - x**2 + 0.075*x**3 + noise"
    },
    {
      "cell_type": "code",
      "execution_count": null,
      "id": "6a13fe04-d510-484d-ae23-15d61cbd52f6",
      "metadata": {
        "trusted": true
      },
      "outputs": [],
      "source": "# plot our theory curve\nplt.plot(x,y_underlying,'k')\n\n# plot our data generated from the theory curve + noise\nplt.scatter(x,y,color='k',marker='o')\n\nplt.show()"
    },
    {
      "cell_type": "markdown",
      "id": "e4ebdd56-c190-4bbe-961e-f300e871cd4f",
      "metadata": {},
      "source": "## ML training process\n\n* get the data and pre-process if needed\n* choose the model\n* train the model\n* evaluate the model"
    },
    {
      "cell_type": "code",
      "execution_count": null,
      "id": "62b80324-5b66-47df-958a-b6b2a36a7e3a",
      "metadata": {
        "trusted": true
      },
      "outputs": [],
      "source": "import sklearn.linear_model\nimport sklearn.neighbors\nimport sklearn.model_selection\nfrom sklearn.model_selection import cross_val_score\nfrom sklearn.metrics import mean_squared_error, r2_score"
    },
    {
      "cell_type": "markdown",
      "id": "1d5ddd72",
      "metadata": {},
      "source": "Preparing the data"
    },
    {
      "cell_type": "code",
      "execution_count": null,
      "id": "1131e65b",
      "metadata": {
        "trusted": true
      },
      "outputs": [],
      "source": "x_train, x_test, y_train, y_test = sklearn.model_selection.train_test_split(\n    x, y, test_size=0.2, random_state=42)\n\nx_train_transformed = x_train.reshape(-1,1)\nx_test_transformed = x_test.reshape(-1,1)"
    },
    {
      "cell_type": "markdown",
      "id": "9ee0b359",
      "metadata": {},
      "source": "Using cross-validation to identify the optimum hyperparameter values for our model "
    },
    {
      "cell_type": "code",
      "execution_count": null,
      "id": "2c9f990c-f110-4454-90db-d30e324bde2d",
      "metadata": {
        "trusted": true
      },
      "outputs": [],
      "source": "k_range = range(1, 20)\nk_scores = []\nfor k in k_range:\n    knn = sklearn.neighbors.KNeighborsRegressor(n_neighbors=k)\n    loss = cross_val_score(knn,\n                           x_train_transformed,\n                           y_train, \n                           cv=5, \n                           scoring='neg_mean_squared_error')\n    k_scores.append(np.sqrt(-loss).mean())\nplt.scatter(k_range, k_scores)\nplt.xlabel('Value of K for KNN')\nplt.ylabel('Cross-Validated RMSE')\nplt.show()"
    },
    {
      "cell_type": "markdown",
      "id": "c8c4c5a3-a510-4f8b-a858-5c996e137d06",
      "metadata": {},
      "source": "Now we have our best guess for a hyperparameter"
    },
    {
      "cell_type": "code",
      "execution_count": null,
      "id": "16d12dc5-91bd-461d-b81f-3fc3cbbdd7e3",
      "metadata": {
        "trusted": true
      },
      "outputs": [],
      "source": "model = sklearn.neighbors.KNeighborsRegressor(n_neighbors=4)\n\nmodel.fit(x_train_transformed, y_train)\n\nplt.plot(x,y_underlying,'k')\nplt.scatter(x_train,y_train,color='black')\nplt.scatter(x_test,y_test,color='blue')\n\nx_model_vals = np.linspace(0, 10, 500).reshape(-1,1)\ny_model_vals = model.predict(x_model_vals)\nplt.plot(x_model_vals,y_model_vals,'green')\n\nplt.show()\n\ny_pred = model.predict(x_test_transformed)\n\nprint('MSE_knn = ', mean_squared_error(y_test, y_pred))"
    },
    {
      "cell_type": "markdown",
      "id": "d9183f3b-990d-4495-bc96-33d6a958a352",
      "metadata": {},
      "source": "# New content for Decision Tree"
    },
    {
      "cell_type": "code",
      "execution_count": null,
      "id": "c76cc18f-d7df-4a1a-92c3-b41ffff84c69",
      "metadata": {
        "trusted": true
      },
      "outputs": [],
      "source": "from sklearn.tree import DecisionTreeRegressor"
    },
    {
      "cell_type": "code",
      "execution_count": null,
      "id": "d1ef6b40-d7ff-43cd-bbf8-556214f7bbc9",
      "metadata": {
        "trusted": true
      },
      "outputs": [],
      "source": "model = sklearn.tree.DecisionTreeRegressor()\n\nmodel.fit(x_train_transformed, y_train)\n\nplt.plot(x,y_underlying,'k')\nplt.scatter(x_train,y_train,color='black')\nplt.scatter(x_test,y_test,color='blue')\n\nx_model_vals = np.linspace(0, 10, 500).reshape(-1,1)\ny_model_vals = model.predict(x_model_vals)\nplt.plot(x_model_vals,y_model_vals,'green')\n\nplt.show()\n\ny_pred = model.predict(x_test_transformed)\n\nprint('MSE_tree = ', mean_squared_error(y_test, y_pred))"
    },
    {
      "cell_type": "markdown",
      "id": "b4e5cc3e-3b63-4f18-9c00-f77ec02cf2a6",
      "metadata": {},
      "source": "### We can see the overfitting\n\nTemper this with regularization -> use cross-validation to search out value for max_depth"
    },
    {
      "cell_type": "code",
      "execution_count": null,
      "id": "f98c36cd-300b-471d-87da-de40bbbc68bb",
      "metadata": {
        "trusted": true
      },
      "outputs": [],
      "source": "h_range = range(1, 20)\nh_scores = []\nfor h in h_range:\n    dt_reg = sklearn.tree.DecisionTreeRegressor(max_depth=h)\n    loss = cross_val_score(dt_reg,\n                           x_train_transformed,\n                           y_train, \n                           cv=5, \n                           scoring='neg_mean_squared_error')\n    h_scores.append(np.sqrt(-loss).mean())\nplt.scatter(h_range, h_scores)\nplt.xlabel('Value of Max_Depth for Tree')\nplt.ylabel('Cross-Validated RMSE')\nplt.show()"
    },
    {
      "cell_type": "code",
      "execution_count": null,
      "id": "ab9a8291-3ad8-4d00-8a6c-ae137358b9be",
      "metadata": {
        "trusted": true
      },
      "outputs": [],
      "source": "model = sklearn.tree.DecisionTreeRegressor(max_depth=4)\n\nmodel.fit(x_train_transformed, y_train)\n\nplt.plot(x,y_underlying,'k')\nplt.scatter(x_train,y_train,color='black')\nplt.scatter(x_test,y_test,color='blue')\n\nx_model_vals = np.linspace(0, 10, 500).reshape(-1,1)\ny_model_vals = model.predict(x_model_vals)\nplt.plot(x_model_vals,y_model_vals,'green')\n\nplt.show()\n\ny_pred = model.predict(x_test_transformed)\n\nprint('MSE_tree = ', mean_squared_error(y_test, y_pred))"
    },
    {
      "cell_type": "markdown",
      "id": "9ce155f1-94f2-4ddf-9514-dfb8d3ee6a2c",
      "metadata": {},
      "source": "# Pipeline"
    },
    {
      "cell_type": "code",
      "execution_count": null,
      "id": "507e6019-d0db-401a-8ac0-c124c0eb28a4",
      "metadata": {
        "trusted": true
      },
      "outputs": [],
      "source": "from sklearn.pipeline import Pipeline\nfrom sklearn.preprocessing import StandardScaler\nfrom sklearn.model_selection import cross_validate\nfrom sklearn.model_selection import GridSearchCV\n\nfrom sklearn.linear_model import LinearRegression\nfrom sklearn.neighbors import KNeighborsRegressor"
    },
    {
      "cell_type": "code",
      "execution_count": null,
      "id": "654461b1",
      "metadata": {
        "trusted": true
      },
      "outputs": [],
      "source": "# Writing out the workflow manually\n\nx_train_shaped = x_train.reshape(-1,1)\nx_test_shaped = x_test.reshape(-1,1)\n\nscaler = StandardScaler()\nx_train_scaled = scaler.fit_transform(x_train_shaped)\nx_test_scaled = scaler.transform(x_test_shaped)\n\ntree_reg = DecisionTreeRegressor()\ntree_reg.fit(x_train_scaled, y_train)\nprint(tree_reg.score(x_train_scaled, y_train))\nprint(tree_reg.score(x_test_scaled, y_test))"
    },
    {
      "cell_type": "markdown",
      "id": "da5d2c65",
      "metadata": {},
      "source": "That's a clean fit and assessment, but the score is 1.0 because we're overfitting to our training data and then using our training data to assess the score.\n\nWe could pass test data into score to get a better assessment of generalization error, or if we want to hold onto the test data for later use, we could hold out some training data to assess the generalization error.\n\nCross-validation can assess scores using multiple validation sets taken from our training data."
    },
    {
      "cell_type": "code",
      "execution_count": null,
      "id": "dac168e2",
      "metadata": {
        "trusted": true
      },
      "outputs": [],
      "source": "# Repeat the workflow manually, but use cross-validation to get better assessments of the generalization error.\n\nx_train_shaped = x_train.reshape(-1,1)\n\nscaler = StandardScaler()\nx_train_scaled = scaler.fit_transform(x_train_shaped)\n\n# in place of this:\n#\n##tree_reg = DecisionTreeRegressor()\n##tree_reg.fit(x_train_scaled, y_train)\n#\n# use this:\n# \ncv_results = cross_validate(DecisionTreeRegressor(), \n                            x_train_scaled, \n                            y_train)\n\n# by default we get 5-folds cross-validation, resulting in 5 scores\nprint('Keys:',cv_results.keys())\nprint('Test score results:',cv_results['test_score'])"
    },
    {
      "cell_type": "markdown",
      "id": "97fea61b",
      "metadata": {},
      "source": "We can be even a little bit more meticulous in our up-front specification of steps.  This helps to document our workflow, and later it makes it easier to change the workflow."
    },
    {
      "cell_type": "code",
      "execution_count": null,
      "id": "481545d9-4c17-4830-a223-faad48d044a4",
      "metadata": {
        "trusted": true
      },
      "outputs": [],
      "source": "# Specify our initial steps in processing the data and initializing our algorithm\n\nx_train_shaped = x_train.reshape(-1,1)\n\npipeline = Pipeline([\n    ('normalizer', StandardScaler()),  # Step 1 - normalize data\n    ('reg', DecisionTreeRegressor())   # Step 2 - regression algorithm\n])\n\ncv_results = cross_validate(pipeline, \n                            x_train_shaped, \n                            y_train)\n\n# by default we get 5-folds cross-validation, resulting in 5 scores\nprint('Keys:',cv_results.keys())\nprint('Test score results:',cv_results['test_score'])"
    },
    {
      "cell_type": "code",
      "execution_count": null,
      "id": "ca0abbac-6a25-4055-b0c2-55d7ed718a4c",
      "metadata": {
        "trusted": true
      },
      "outputs": [],
      "source": "cv_results['test_score'].mean()"
    },
    {
      "cell_type": "markdown",
      "id": "2d09bc3c",
      "metadata": {},
      "source": "Now that we have our pipeline, we can use it to advantage.  For example, we can use it to loop over a couple different regression algorithms:"
    },
    {
      "cell_type": "code",
      "execution_count": null,
      "id": "6416ad20-bde7-4136-8c67-6a4cb43165d3",
      "metadata": {
        "trusted": true
      },
      "outputs": [],
      "source": "regs = [LinearRegression(), KNeighborsRegressor(), DecisionTreeRegressor()]"
    },
    {
      "cell_type": "code",
      "execution_count": null,
      "id": "53805992-97db-4485-9160-d052c7d9ba15",
      "metadata": {
        "trusted": true
      },
      "outputs": [],
      "source": "for r in regs:\n    pipeline.set_params(reg = r)\n    scores = cross_validate(pipeline, x_train_shaped, y_train)\n    print('---------------------------------')\n    print(str(r))\n    print(str(r.get_params()))\n    print('-----------------------------------')\n    for key, values in scores.items():\n            print(key,' mean ', values.mean())\n            print(key,' std ', values.std())"
    },
    {
      "cell_type": "markdown",
      "id": "94822d96",
      "metadata": {},
      "source": "We can also use our pipeline as a way to iteratively assess performance for hyperparameters."
    },
    {
      "cell_type": "markdown",
      "id": "b3cfe18e-fad4-4354-bc4a-a30ed4c719aa",
      "metadata": {},
      "source": "## GridSearchCV\n\nhttps://scikit-learn.org/stable/modules/generated/sklearn.model_selection.GridSearchCV.html"
    },
    {
      "cell_type": "code",
      "execution_count": null,
      "id": "c78c5e62-510b-4672-90ef-f33478c6a0f6",
      "metadata": {
        "trusted": true
      },
      "outputs": [],
      "source": "cv_grid = GridSearchCV(pipeline, param_grid = {\n    'reg__max_depth' : range(1,40),\n    'reg__min_samples_leaf': [1,2,3,5]\n})\n\ncv_grid.fit(x_train_shaped, y_train)"
    },
    {
      "cell_type": "code",
      "execution_count": null,
      "id": "db32c69e-f5f7-4e6c-92c1-892aeff284e5",
      "metadata": {
        "trusted": true
      },
      "outputs": [],
      "source": "cv_grid.best_params_"
    },
    {
      "cell_type": "code",
      "execution_count": null,
      "id": "3678fbf7-6d79-4099-afb2-6d482ba3413f",
      "metadata": {
        "trusted": true
      },
      "outputs": [],
      "source": "x_test_shaped = x_test.reshape(-1,1)\n\ny_predict = cv_grid.predict(x_test_shaped)\nr2score = r2_score(y_test,y_predict)\nprint('R2 of the best regressor after CV is %.2f' % (r2score))"
    },
    {
      "cell_type": "code",
      "execution_count": null,
      "id": "34420a3d-e96c-4253-b483-03b6448af0a0",
      "metadata": {
        "trusted": true
      },
      "outputs": [],
      "source": "pipeline"
    },
    {
      "cell_type": "code",
      "execution_count": null,
      "id": "6f2d7779-434c-48af-8547-e48a494c7952",
      "metadata": {
        "trusted": true
      },
      "outputs": [],
      "source": "pipeline.set_params(reg = KNeighborsRegressor())"
    },
    {
      "cell_type": "code",
      "execution_count": null,
      "id": "6bcf4605-f375-4c67-ac11-edeede711c74",
      "metadata": {
        "trusted": true
      },
      "outputs": [],
      "source": "pipeline"
    },
    {
      "cell_type": "code",
      "execution_count": null,
      "id": "e7a70935-4d4d-40ce-8065-049eb3bcd4c9",
      "metadata": {
        "trusted": true
      },
      "outputs": [],
      "source": "cv_grid = GridSearchCV(pipeline, param_grid = {\n    'reg__n_neighbors' : range(1,20)\n})\n\ncv_grid.fit(x_train_shaped, y_train)"
    },
    {
      "cell_type": "code",
      "execution_count": null,
      "id": "149ebe22-a284-4292-819e-e8aa3cf5be06",
      "metadata": {
        "trusted": true
      },
      "outputs": [],
      "source": "cv_grid.best_params_"
    },
    {
      "cell_type": "code",
      "execution_count": null,
      "id": "416289d6-6160-47bc-881f-13be45558c4d",
      "metadata": {
        "trusted": true
      },
      "outputs": [],
      "source": "y_predict = cv_grid.predict(x_test_shaped)\nr2score = r2_score(y_test,y_predict)\nprint('R2 of the best regressor after CV is %.2f' % (r2score))"
    },
    {
      "cell_type": "markdown",
      "id": "5789e087-972c-4925-9326-b9e65e7059ac",
      "metadata": {},
      "source": "## Just to double-check, let's do it ourselves"
    },
    {
      "cell_type": "code",
      "execution_count": null,
      "id": "942652f1-3ac3-4dd2-8057-d924f53ed919",
      "metadata": {
        "trusted": true
      },
      "outputs": [],
      "source": "testmodel = KNeighborsRegressor(n_neighbors=6)\n\ns = StandardScaler()\nxtrain_trans = s.fit_transform(x_train_shaped)\nxtest_trans = s.transform(x_test_shaped)\n\ntestmodel.fit(xtrain_trans,y_train)\n\ny_predict = testmodel.predict(xtest_trans)\nr2score = r2_score(y_test,y_predict)\nprint('R2 of the best regressor after CV is %.2f' % (r2score))"
    },
    {
      "cell_type": "markdown",
      "id": "d7dd7842-387e-4890-a6b0-6a62acb80b08",
      "metadata": {},
      "source": "# Back to normal"
    },
    {
      "cell_type": "code",
      "execution_count": null,
      "id": "5506c97b-a407-4f38-9600-ecbdaf7d8b74",
      "metadata": {
        "trusted": true
      },
      "outputs": [],
      "source": "#model = sklearn.neighbors.KNeighborsRegressor(n_neighbors=6)\nmodel = sklearn.tree.DecisionTreeRegressor(max_depth=4)\n\nmodel.fit(x_train_transformed, y_train)\n\nplt.plot(x,y_underlying,'k')\nplt.scatter(x_train,y_train,color='black')\nplt.scatter(x_test,y_test,color='blue')\n\nx_model_vals = np.linspace(0, 10, 500).reshape(-1,1)\ny_model_vals = model.predict(x_model_vals)\nplt.plot(x_model_vals,y_model_vals,'green')\n\nplt.show()\n\ny_pred = model.predict(x_test_transformed)\n\nprint('MSE_tree = ', mean_squared_error(y_test, y_pred))\nprint('R2_tree = ', r2_score(y_test, y_pred))"
    },
    {
      "cell_type": "code",
      "execution_count": null,
      "id": "c639ddc6-0ed9-4a52-9bbd-250395711eb3",
      "metadata": {
        "trusted": true
      },
      "outputs": [],
      "source": "text_representation = sklearn.tree.export_text(model)\nprint(text_representation)"
    },
    {
      "cell_type": "code",
      "execution_count": null,
      "id": "a9c54b91-513c-455b-b806-9220ee006c6b",
      "metadata": {
        "trusted": true
      },
      "outputs": [],
      "source": "plt.figure(figsize=(12,8))\nsklearn.tree.plot_tree(model, \n               feature_names=['x'],  \n               class_names=['y'],\n               filled=True);"
    },
    {
      "cell_type": "code",
      "execution_count": null,
      "id": "c64afc5d-5d83-4a8e-986d-2343f1019f7b",
      "metadata": {
        "trusted": true
      },
      "outputs": [],
      "source": "import dtreeviz"
    },
    {
      "cell_type": "code",
      "execution_count": null,
      "id": "b5132f47-b052-41a6-9592-f994f172638e",
      "metadata": {
        "scrolled": false,
        "trusted": true
      },
      "outputs": [],
      "source": "%%capture --no-display\n\nvizmodel = dtreeviz.model(model, \n         x.reshape(-1,1), \n         y,\n         feature_names=['x'],\n         class_names=['y'],\n         target_name=\"y\")\n\nvizmodel.view()"
    }
  ],
  "metadata": {
    "kernelspec": {
      "display_name": "Python 3 (ipykernel)",
      "language": "python",
      "name": "python3"
    },
    "language_info": {
      "codemirror_mode": {
        "name": "ipython",
        "version": 3
      },
      "file_extension": ".py",
      "mimetype": "text/x-python",
      "name": "python",
      "nbconvert_exporter": "python",
      "pygments_lexer": "ipython3",
      "version": "3.11.9"
    }
  },
  "nbformat": 4,
  "nbformat_minor": 5
}