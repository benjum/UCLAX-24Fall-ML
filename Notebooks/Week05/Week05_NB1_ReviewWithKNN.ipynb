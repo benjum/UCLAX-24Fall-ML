{
  "cells": [
    {
      "cell_type": "markdown",
      "id": "1d5c75b1-6b15-49c2-869b-6af409ef317e",
      "metadata": {},
      "source": "# Review of ML Process Covered So Far\nUsing K-Nearest Neighbors (KNN)"
    },
    {
      "cell_type": "markdown",
      "id": "5c87bb76-8931-4c36-90ec-2c5c852da999",
      "metadata": {},
      "source": "## The data"
    },
    {
      "cell_type": "code",
      "execution_count": null,
      "id": "a0e406cc-3a8d-4f8f-95f3-f4c4997cb5a3",
      "metadata": {
        "trusted": true
      },
      "outputs": [],
      "source": "import numpy as np\nimport matplotlib.pyplot as plt\nimport pandas as pd"
    },
    {
      "cell_type": "code",
      "execution_count": null,
      "id": "7bf710f3-1593-4a57-8bcd-f7ff80d1d783",
      "metadata": {
        "trusted": true
      },
      "outputs": [],
      "source": "data = pd.read_csv('https://raw.githubusercontent.com/benjum/UCLAX-24Fall-ML/main/Data/gdp-vs-lifesatisfaction.csv')"
    },
    {
      "cell_type": "code",
      "execution_count": null,
      "id": "6486d24c-b49f-4040-bc57-b8e113bf6bc7",
      "metadata": {
        "trusted": true
      },
      "outputs": [],
      "source": "data"
    },
    {
      "cell_type": "code",
      "execution_count": null,
      "id": "976904dc",
      "metadata": {
        "trusted": true
      },
      "outputs": [],
      "source": "data['Life satisfaction'] = ['Satisfied' if i >= 6.5 else 'Not Satisfied' for i in data['Life satisfaction'] ]"
    },
    {
      "cell_type": "code",
      "execution_count": null,
      "id": "c499d5f7",
      "metadata": {
        "trusted": true
      },
      "outputs": [],
      "source": "data"
    },
    {
      "cell_type": "code",
      "execution_count": null,
      "id": "b0dd8b06-3f9e-4829-90b8-506a7fa64943",
      "metadata": {
        "trusted": true
      },
      "outputs": [],
      "source": "data.plot.scatter(x='GDP per capita', y='Life satisfaction')\n# or equally well\n# data.plot(x='GDP per capita', y='Life satisfaction', kind='scatter')"
    },
    {
      "cell_type": "markdown",
      "id": "8e31e09a-db40-4db0-bdfe-27ee97f89896",
      "metadata": {},
      "source": "<img src=\"https://scikit-learn.org/stable/_static/scikit-learn-logo-small.png\" width=200>\n\nhttps://scikit-learn.org/stable/index.html\n<br>\nhttps://scikit-learn.org/stable/modules/generated/sklearn.neighbors.KNeighborsClassifier.html"
    },
    {
      "cell_type": "markdown",
      "id": "613a8045-e83b-4bda-bfe0-6aa0bab7b85e",
      "metadata": {},
      "source": "## K-Nearest Neighbors (for classification, not regression)"
    },
    {
      "cell_type": "code",
      "execution_count": null,
      "id": "0bce4549-f67a-41d2-a7b8-6f2b92df0da7",
      "metadata": {
        "trusted": true
      },
      "outputs": [],
      "source": "import sklearn.neighbors"
    },
    {
      "cell_type": "code",
      "execution_count": null,
      "id": "34fb5ae2-a4b4-4592-a193-7a2451380113",
      "metadata": {
        "trusted": true
      },
      "outputs": [],
      "source": "# Classifier using 3 nearest neighbors \nmodel = sklearn.neighbors.KNeighborsClassifier(n_neighbors=3)"
    },
    {
      "cell_type": "code",
      "execution_count": null,
      "id": "4b973c2f-a8a2-4612-8b59-7fdd2fdf3d3d",
      "metadata": {
        "trusted": true
      },
      "outputs": [],
      "source": "# Reminder:\n# sklearn will expect the array of feature values to be like a 2D array \n# which in Pandas means like a dataframe rather than a series\n# We make a dataframe by indexing the dataframe with a list containing our column names\n\nx = data[['GDP per capita']]\ny = data['Life satisfaction']"
    },
    {
      "cell_type": "code",
      "execution_count": null,
      "id": "2d80a027",
      "metadata": {
        "trusted": true
      },
      "outputs": [],
      "source": "x"
    },
    {
      "cell_type": "code",
      "execution_count": null,
      "id": "fe539084-5e83-4a8d-83d3-15194f850a1f",
      "metadata": {
        "trusted": true
      },
      "outputs": [],
      "source": "# Train the model\nmodel.fit(x,y)"
    },
    {
      "cell_type": "code",
      "execution_count": null,
      "id": "56e6d485-8c85-48b5-9f2a-400013efb516",
      "metadata": {
        "trusted": true
      },
      "outputs": [],
      "source": "# Make a prediction\n# If we used a dataframe for training, we'll need one to pass in our feature values\nx_test = pd.DataFrame({'GDP per capita':[45000]})\nmodel.predict(x_test)"
    },
    {
      "cell_type": "code",
      "execution_count": null,
      "id": "b3b9e5e4-408f-48ae-b8d1-e23e4262812b",
      "metadata": {
        "trusted": true
      },
      "outputs": [],
      "source": "# Visualize what the predictions are for this model\n\ndata.plot.scatter(x='GDP per capita', y='Life satisfaction')\n\nx_new = np.linspace(8000,58000,10000)\nx_new = pd.DataFrame({'GDP per capita':x_new})\ny_pred = model.predict(x_new)\nplt.plot(x_new, y_pred)\n\nplt.show()"
    },
    {
      "cell_type": "markdown",
      "id": "40ed7c67-2879-4f6a-8653-bd49f2630e7e",
      "metadata": {},
      "source": "## Ascertaining the \"goodness\" of the model fit"
    },
    {
      "cell_type": "code",
      "execution_count": null,
      "id": "70820d3a-090f-4e58-8c2d-19bb131f251c",
      "metadata": {
        "trusted": true
      },
      "outputs": [],
      "source": "model.score(x, y)"
    },
    {
      "cell_type": "code",
      "execution_count": null,
      "id": "ad390dc3-2f81-4cc9-bd48-dfdd2d92b6dc",
      "metadata": {
        "trusted": true
      },
      "outputs": [],
      "source": "# If the model correctly classifies i points and misclassifies j points out of k total\n# the score should be i/k\n28/29"
    },
    {
      "cell_type": "code",
      "execution_count": null,
      "id": "5b976bd3-0074-4f4d-b297-c34f0e3462af",
      "metadata": {
        "trusted": true
      },
      "outputs": [],
      "source": "# Note that when calculating the precision and recall here, if your classes are not 0/1\n# you will need to specify what class is positive vs negative (the \"pos_label\")\n\nprint(f\"Accuracy: {sklearn.metrics.accuracy_score(y, model.predict(x)):.2%}\")\nprint(f\"Precision: {sklearn.metrics.precision_score(y, model.predict(x), pos_label='Satisfied'):.2%}\")\nprint(f\"Recall: {sklearn.metrics.recall_score(y, model.predict(x), pos_label='Satisfied'):.2%}\")"
    },
    {
      "cell_type": "code",
      "execution_count": null,
      "id": "95bf1ecf-15c4-4c62-b545-443a7c9927af",
      "metadata": {
        "trusted": true
      },
      "outputs": [],
      "source": "from sklearn.metrics import confusion_matrix"
    },
    {
      "cell_type": "markdown",
      "id": "bf32586d-edeb-4d52-8f8d-a782009097f6",
      "metadata": {},
      "source": "You can get more information on the accuracy of the model with a confusion matrix. \n\nIn the case of binary classification, the confusion matrix shows true negatives, true positives, false positives, and false positives."
    },
    {
      "cell_type": "code",
      "execution_count": null,
      "id": "f0eb2e7f-1d35-4559-906a-ca4ad8172e2c",
      "metadata": {
        "trusted": true
      },
      "outputs": [],
      "source": "confusion_matrix(y, model.predict(x))"
    },
    {
      "cell_type": "code",
      "execution_count": null,
      "id": "10ece46b-6b14-48ae-9879-3e56f3b7e655",
      "metadata": {
        "trusted": true
      },
      "outputs": [],
      "source": "from sklearn.metrics import classification_report"
    },
    {
      "cell_type": "code",
      "execution_count": null,
      "id": "730cd0a0-0ca1-41ff-ab55-1f4bec15e584",
      "metadata": {
        "trusted": true
      },
      "outputs": [],
      "source": "print(classification_report(y, model.predict(x)))"
    },
    {
      "cell_type": "markdown",
      "id": "57a817b3",
      "metadata": {},
      "source": "What are these numbers?\n* precision and recall for each of the \"Not Satisfied\" and \"Satisfied\"\n  * 12/12 = 1.00, 12/13 = 0.92, 16/16 = 1.00, 16/17 = 0.94\n* f1-score is the harmonic mean\n  * 2 / (1/precision + 1/recall)\n* support shows the number of data points\n  * 12 and 17\n* accuracy: total_correct/total -> no difference in considering the two classes\n* macro avg: average considering both classification metrics equally\n  * precision: 0.5*(12/13) + 0.5*(16/16) = 0.96\n  * recall: 0.5*(12/12) + 0.5*(16/17) = 0.97\n* weighted avg: average when weighting the classification metrics by the support \n  * precision: (12*(12/13) + 17*(16/16)) / 29 = 0.97\n  * recall: (12*(12/12) + 17*(16/17)) / 29 = 0.97\n* micro avg: add up the contributions of positives from each class before dividing by totals\n  * precision: (12+16) / (12+1+0+16)\n  * recall: (12+16) / (12+0+1+16)\n  * for multi-class classification where data points have only one class, this is essentially the same as accuracy score\n"
    },
    {
      "cell_type": "markdown",
      "id": "2727d739-46a5-4688-930f-cbceac638380",
      "metadata": {},
      "source": "## Train/Test Split, Cross-Validation, and Hyperparameters\n\nTo review these concepts covered in the online materials, we'll repeat the classification process but include new elements:\n* a new dataset: [Wisconsin breast cancer dataset](https://scikit-learn.org/stable/modules/generated/sklearn.datasets.load_breast_cancer.html)\n* a test/train split\n* cross-validation to find an optimum hyperparameter value, namely the optimum number of neighbors\n\n"
    },
    {
      "cell_type": "code",
      "execution_count": null,
      "id": "e8010787-0291-452f-a699-997ce2425ad2",
      "metadata": {
        "trusted": true
      },
      "outputs": [],
      "source": "import sklearn.datasets\nimport sklearn.model_selection"
    },
    {
      "cell_type": "code",
      "execution_count": null,
      "id": "8cfda027-b843-453e-8c41-9e0491b3f251",
      "metadata": {
        "trusted": true
      },
      "outputs": [],
      "source": "x,y = sklearn.datasets.load_breast_cancer(return_X_y=True, as_frame=True)"
    },
    {
      "cell_type": "markdown",
      "id": "30e3c168-3577-4e24-9d8d-2f786f1cd4ed",
      "metadata": {},
      "source": "`x` and `y` contain the feature and target values:"
    },
    {
      "cell_type": "code",
      "execution_count": null,
      "id": "223029a0-3d06-4eae-8a08-e74cd2686109",
      "metadata": {
        "trusted": true
      },
      "outputs": [],
      "source": "x"
    },
    {
      "cell_type": "code",
      "execution_count": null,
      "id": "2e54b2fd-2d40-4840-86ef-bd3a3e885441",
      "metadata": {
        "trusted": true
      },
      "outputs": [],
      "source": "y"
    },
    {
      "cell_type": "markdown",
      "id": "1dfe77b2-07f9-4128-b2bc-4e9b2c4fa337",
      "metadata": {},
      "source": "We'll consider using only the `mean radius` column of `x`:"
    },
    {
      "cell_type": "code",
      "execution_count": null,
      "id": "7d3adf18-2d60-4f46-a31f-7cf97b7b12ae",
      "metadata": {
        "trusted": true
      },
      "outputs": [],
      "source": "rad = x[['mean radius']]"
    },
    {
      "cell_type": "code",
      "execution_count": null,
      "id": "62fc91bd",
      "metadata": {
        "trusted": true
      },
      "outputs": [],
      "source": "# check by executing this cell and comparing against the dataframe output above\nrad"
    },
    {
      "cell_type": "markdown",
      "id": "9142cbdf-aa86-42f2-9238-dc5059cdbf5e",
      "metadata": {},
      "source": "Let's do an initial exploratory data viz:"
    },
    {
      "cell_type": "code",
      "execution_count": null,
      "id": "9f9ffd69-6cd1-4956-9fa8-85844f2f40e3",
      "metadata": {
        "trusted": true
      },
      "outputs": [],
      "source": "plt.plot(rad,y,'ko')"
    },
    {
      "cell_type": "markdown",
      "id": "ee23e5c4-1444-40dc-96f2-825bcbf524be",
      "metadata": {},
      "source": "Before training our model, we'll hold out a set of data to use later for testing our model's performance."
    },
    {
      "cell_type": "code",
      "execution_count": null,
      "id": "6635fd6c-02af-4614-85b2-066519e469f2",
      "metadata": {
        "trusted": true
      },
      "outputs": [],
      "source": "X_train, X_test, y_train, y_test = sklearn.model_selection.train_test_split(rad, \n                                                                            y, \n                                                                            random_state=0)"
    },
    {
      "cell_type": "markdown",
      "id": "9544bfa3-6b95-45c2-967b-b0fe599c6ab1",
      "metadata": {},
      "source": "Initialize our k-nearest neighbors classifier and start with n_neighbors = 3."
    },
    {
      "cell_type": "code",
      "execution_count": null,
      "id": "b0a66cd2-b62a-46dd-b3f2-bd2b1a8c99c3",
      "metadata": {
        "trusted": true
      },
      "outputs": [],
      "source": "import sklearn.neighbors\nmodel = sklearn.neighbors.KNeighborsClassifier(n_neighbors=3)"
    },
    {
      "cell_type": "markdown",
      "id": "189800fe-b909-401e-853e-b56ad3590647",
      "metadata": {},
      "source": "Train the model."
    },
    {
      "cell_type": "code",
      "execution_count": null,
      "id": "3a2e171d-fb0d-4058-a897-db90f6ee5144",
      "metadata": {
        "trusted": true
      },
      "outputs": [],
      "source": "model.fit(X_train, y_train)"
    },
    {
      "cell_type": "markdown",
      "id": "6ca2d5f5-008e-4be4-b682-1bd3a6b178f5",
      "metadata": {},
      "source": "Look at the plot above, choose a value for radius, and let's see which class our model predicts for that value.\n* doing this the Panda's way vs the numpy way requires that we set up a dataframe for our feature values, rather than simply passing values or numpy arrays into the predict function."
    },
    {
      "cell_type": "code",
      "execution_count": null,
      "id": "ef664ae6-147e-4cec-9866-cecfd1e978ee",
      "metadata": {
        "trusted": true
      },
      "outputs": [],
      "source": "x_test = pd.DataFrame({'mean radius':[20]})\nmodel.predict(x_test)"
    },
    {
      "cell_type": "markdown",
      "id": "36137054-1389-4959-8160-cefbec4d6c92",
      "metadata": {},
      "source": "Now let's remake the plot from above, and on top of it, plot a line curve showing the predictions of our model over the plotted horizontal range.\n* you may find the following useful:\n  * `np.linspace(a,b,c)` will make a numpy array with `c` elements starting at the value `a` and going to `b`\n  * remember that sklearn's predict method must have a 2D-like array input, and in the context of Pandas, this will be a dataframe"
    },
    {
      "cell_type": "code",
      "execution_count": null,
      "id": "ca3164cc-3a43-4942-9df2-859c47089f15",
      "metadata": {
        "trusted": true
      },
      "outputs": [],
      "source": "import numpy as np"
    },
    {
      "cell_type": "code",
      "execution_count": null,
      "id": "9d38ca79",
      "metadata": {
        "trusted": true
      },
      "outputs": [],
      "source": "# Visualize what the predictions are for this model\n\n# plt.plot(rad,y,'ko')\nplt.plot(X_train,y_train,'ko')\nplt.plot(X_test,y_test,'bo')\n\nx_new = np.linspace(0,30,1000)\nx_new = pd.DataFrame({'mean radius':x_new})\ny_pred = model.predict(x_new)\nplt.plot(x_new, y_pred)\n\nplt.show()"
    },
    {
      "cell_type": "markdown",
      "id": "be7b4831",
      "metadata": {},
      "source": "We can now assess the performance of our trained model on data that it has not seen yet, our test data."
    },
    {
      "cell_type": "code",
      "execution_count": null,
      "id": "7fcc1df1",
      "metadata": {
        "trusted": true
      },
      "outputs": [],
      "source": "print(f\"Accuracy: {sklearn.metrics.accuracy_score(y_test, model.predict(X_test)):.2%}\")\nprint(f\"Precision: {sklearn.metrics.precision_score(y_test, model.predict(X_test)):.2%}\")\nprint(f\"Recall: {sklearn.metrics.recall_score(y_test, model.predict(X_test)):.2%}\")"
    },
    {
      "cell_type": "markdown",
      "id": "a715f2aa-6312-4632-a93e-fa78a2ead277",
      "metadata": {},
      "source": "The above was performed for a specific value of n_neighbors.  Can we tell beforehand which value of n_neighbors will be a good one to use?  No.\n\nWhat we can do instead is to use part of our training set to train for different values of hyperparameters, like n_neighbors.\n\nHere we will use cross validation to identify the performance for different values of n_neighbors."
    },
    {
      "cell_type": "code",
      "execution_count": null,
      "id": "0d91a830-5e1d-45b6-86f3-aa4e39d5c38b",
      "metadata": {
        "trusted": true
      },
      "outputs": [],
      "source": "from sklearn.model_selection import cross_val_score"
    },
    {
      "cell_type": "code",
      "execution_count": null,
      "id": "0a9cc02a-0e29-4795-add9-e54a5b21c412",
      "metadata": {
        "scrolled": false,
        "trusted": true
      },
      "outputs": [],
      "source": "# look at n_neighbors over the range from 1 to 200\nk_range = range(1, 200)\n\n# keep track of the accuracy scores for each n_neighbors value\nk_scores = []\n\n# for every value of n_neighbors, perform 5-fold cross-validation\n# using knn as the model and accuracy as the performance metric\nfor k in k_range:\n    knn = sklearn.neighbors.KNeighborsClassifier(n_neighbors=k)\n    acc = cross_val_score(knn,\n                          X_train,\n                          y_train,\n                          cv=5,\n                          scoring='accuracy')\n    k_scores.append(acc.mean())\n\n# plot the accuracy scores to see which n_neighbors gives the highest accuracy    \nplt.scatter(k_range, k_scores)\nplt.xlabel('Value of K for KNN')\nplt.ylabel('Cross-Validated Accuracy')\nplt.show()\n\n# explicitly print out the n_neighbors value that gives the best performance\nprint('Max k = ',np.argmax(k_scores)+1)"
    },
    {
      "cell_type": "markdown",
      "id": "546c67e7-0aa4-43a6-b0cc-492a32d40bb2",
      "metadata": {},
      "source": "Initialize another k-nearest neighbors classifier with the best n_neighbors."
    },
    {
      "cell_type": "code",
      "execution_count": null,
      "id": "d40ceb68-8e42-4f11-a78b-6d6d0070c06d",
      "metadata": {
        "trusted": true
      },
      "outputs": [],
      "source": "model = sklearn.neighbors.KNeighborsClassifier(n_neighbors=65)"
    },
    {
      "cell_type": "markdown",
      "id": "7212b630-194b-48de-be0b-e804aaee422d",
      "metadata": {},
      "source": "Train the model."
    },
    {
      "cell_type": "code",
      "execution_count": null,
      "id": "8da21e01-942c-4f3a-8e19-935fcb340e9d",
      "metadata": {
        "trusted": true
      },
      "outputs": [],
      "source": "model.fit(X_train,y_train)"
    },
    {
      "cell_type": "markdown",
      "id": "218eece8-304e-4a45-8a47-31384933d5e9",
      "metadata": {},
      "source": "Remake the plot that has the training points and the curve of your new trained model's predictions."
    },
    {
      "cell_type": "code",
      "execution_count": null,
      "id": "5c9aa552-9e7e-4785-9162-63efebefea2c",
      "metadata": {
        "trusted": true
      },
      "outputs": [],
      "source": "# Visualize what the predictions are for this model\n\nplt.plot(X_train,y_train,'ko')\n\nx_new = np.linspace(0,30,1000)\nx_new = pd.DataFrame({'mean radius':x_new})\ny_pred = model.predict(x_new)\nplt.plot(x_new, y_pred)\n\nplt.show()"
    },
    {
      "cell_type": "markdown",
      "id": "51fed4f9-47b4-495d-833b-23adf370c98e",
      "metadata": {},
      "source": "Print out the accuracy, precision, and recall assessed via the test set."
    },
    {
      "cell_type": "code",
      "execution_count": null,
      "id": "58554530-af31-41e1-8341-e33da4b6a108",
      "metadata": {
        "trusted": true
      },
      "outputs": [],
      "source": "print(f\"Accuracy: {sklearn.metrics.accuracy_score(y_test, model.predict(X_test)):.2%}\")\nprint(f\"Precision: {sklearn.metrics.precision_score(y_test, model.predict(X_test)):.2%}\")\nprint(f\"Recall: {sklearn.metrics.recall_score(y_test, model.predict(X_test)):.2%}\")"
    },
    {
      "cell_type": "markdown",
      "id": "491dc2bf-be13-40c1-b421-21d6e220c634",
      "metadata": {},
      "source": "Print the confusion matrix."
    },
    {
      "cell_type": "code",
      "execution_count": null,
      "id": "4c542980-0deb-459b-8ca3-721837c04d55",
      "metadata": {
        "trusted": true
      },
      "outputs": [],
      "source": "from sklearn.metrics import confusion_matrix"
    },
    {
      "cell_type": "code",
      "execution_count": null,
      "id": "174e2244",
      "metadata": {
        "trusted": true
      },
      "outputs": [],
      "source": "confusion_matrix(y_test, model.predict(X_test))"
    },
    {
      "cell_type": "markdown",
      "id": "42ae0fe6-ddd3-4ed4-9045-d2b55387ea37",
      "metadata": {},
      "source": "Print the classification report."
    },
    {
      "cell_type": "code",
      "execution_count": null,
      "id": "91cdc8e4-c1d7-4254-98d8-238a9f5ea173",
      "metadata": {
        "trusted": true
      },
      "outputs": [],
      "source": "from sklearn.metrics import classification_report"
    },
    {
      "cell_type": "code",
      "execution_count": null,
      "id": "aa12bb5b",
      "metadata": {
        "trusted": true
      },
      "outputs": [],
      "source": "print(classification_report(y_test, model.predict(X_test)))"
    }
  ],
  "metadata": {
    "kernelspec": {
      "display_name": "Python 3 (ipykernel)",
      "language": "python",
      "name": "python3"
    },
    "language_info": {
      "codemirror_mode": {
        "name": "ipython",
        "version": 3
      },
      "file_extension": ".py",
      "mimetype": "text/x-python",
      "name": "python",
      "nbconvert_exporter": "python",
      "pygments_lexer": "ipython3",
      "version": "3.11.9"
    }
  },
  "nbformat": 4,
  "nbformat_minor": 5
}